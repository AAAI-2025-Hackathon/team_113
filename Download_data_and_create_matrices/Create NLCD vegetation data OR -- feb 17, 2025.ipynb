{
 "cells": [
  {
   "cell_type": "code",
   "execution_count": 1,
   "id": "96bfc537",
   "metadata": {},
   "outputs": [],
   "source": [
    "#coordinates left=-124.00055555649317, bottom=41.9994444436071, right=-122.99944444340576, top=43.00055555579519"
   ]
  },
  {
   "cell_type": "code",
   "execution_count": 9,
   "id": "e310db87",
   "metadata": {},
   "outputs": [
    {
     "name": "stdout",
     "output_type": "stream",
     "text": [
      "Raster CRS: PROJCS[\"Albers_Conical_Equal_Area\",GEOGCS[\"WGS 84\",DATUM[\"WGS_1984\",SPHEROID[\"WGS 84\",6378137,298.257223563,AUTHORITY[\"EPSG\",\"7030\"]],AUTHORITY[\"EPSG\",\"6326\"]],PRIMEM[\"Greenwich\",0,AUTHORITY[\"EPSG\",\"8901\"]],UNIT[\"degree\",0.0174532925199433,AUTHORITY[\"EPSG\",\"9122\"]],AUTHORITY[\"EPSG\",\"4326\"]],PROJECTION[\"Albers_Conic_Equal_Area\"],PARAMETER[\"latitude_of_center\",23],PARAMETER[\"longitude_of_center\",-96],PARAMETER[\"standard_parallel_1\",29.5],PARAMETER[\"standard_parallel_2\",45.5],PARAMETER[\"false_easting\",0],PARAMETER[\"false_northing\",0],UNIT[\"meters\",1],AXIS[\"Easting\",EAST],AXIS[\"Northing\",NORTH]]\n",
      "Raster Bounds: BoundingBox(left=-2493045.0, bottom=177285.0, right=2342655.0, top=3310005.0)\n",
      "Converted Bounding Box in Raster CRS: (-2237834.863176505, 2424255.4883338944) to (-2191400.468043988, 2554847.887333584)\n",
      "Raw Indices: Row Min=25171, Row Max=29524, Col Min=8507, Col Max=10054\n",
      "Adjusted Indices: Row Min=25171, Row Max=29524, Col Min=8507, Col Max=10054\n"
     ]
    }
   ],
   "source": [
    "import rasterio\n",
    "from pyproj import Transformer\n",
    "import numpy as np\n",
    "import pandas as pd\n",
    "\n",
    "# Path to your NLCD .img file\n",
    "img_path = \"nlcd_2021_land_cover_l48_20230630.img\"\n",
    "\n",
    "# Define your bounding box in WGS84 (lon_min, lon_max, lat_min, lat_max)\n",
    "lon_min, lon_max = -124.00055555649317, -122.99944444340576   # Example longitude range\n",
    "lat_min, lat_max = 41.9994444436071, 43.00055555579519      # Example latitude range\n",
    "\n",
    "# Open the raster file\n",
    "with rasterio.open(img_path) as dataset:\n",
    "    # Get raster properties\n",
    "    raster_crs = dataset.crs  # This is the Albers Conical Equal Area CRS\n",
    "    raster_bounds = dataset.bounds\n",
    "    print(f\"Raster CRS: {raster_crs}\")\n",
    "    print(f\"Raster Bounds: {raster_bounds}\")\n",
    "\n",
    "    # Transformer to convert from WGS84 (EPSG:4326) to the raster's CRS\n",
    "    transformer = Transformer.from_crs(\"EPSG:4326\", raster_crs, always_xy=True)\n",
    "\n",
    "    # Convert bounding box (WGS84) to the raster’s coordinate system\n",
    "    x_min, y_max = transformer.transform(lon_min, lat_max)  # Top-left corner\n",
    "    x_max, y_min = transformer.transform(lon_max, lat_min)  # Bottom-right corner\n",
    "    print(f\"Converted Bounding Box in Raster CRS: ({x_min}, {y_min}) to ({x_max}, {y_max})\")\n",
    "\n",
    "    # Convert transformed coordinates to row and column indices\n",
    "    row_max, col_min = dataset.index(x_min, y_min)  # Note: row_max here corresponds to y_min\n",
    "    row_min, col_max = dataset.index(x_max, y_max)  # row_min corresponds to y_max\n",
    "    print(f\"Raw Indices: Row Min={row_min}, Row Max={row_max}, Col Min={col_min}, Col Max={col_max}\")\n",
    "\n",
    "    # Ensure row_min < row_max to avoid reversed slicing\n",
    "    if row_min > row_max:\n",
    "        row_min, row_max = row_max, row_min\n",
    "\n",
    "    # Ensure indices are within raster bounds\n",
    "    row_min = max(0, min(row_min, dataset.height - 1))\n",
    "    row_max = max(0, min(row_max, dataset.height - 1))\n",
    "    col_min = max(0, min(col_min, dataset.width - 1))\n",
    "    col_max = max(0, min(col_max, dataset.width - 1))\n",
    "\n",
    "    print(f\"Adjusted Indices: Row Min={row_min}, Row Max={row_max}, Col Min={col_min}, Col Max={col_max}\")\n",
    "\n",
    "    # Read the raster data for the specified region\n",
    "    land_cover_matrix = dataset.read(1)[row_min:row_max, col_min:col_max]\n",
    "\n",
    "# # Convert the matrix into a Pandas DataFrame\n",
    "# if land_cover_matrix.size > 0:\n",
    "#     df = pd.DataFrame(land_cover_matrix)\n",
    "#     csv_path = \"land_cover_matrix.csv\"\n",
    "#     df.to_csv(csv_path, index=False)\n",
    "#     print(f\"Extracted land cover matrix saved to {csv_path}\")\n",
    "# else:\n",
    "#     print(\"No data found in the specified region. Try adjusting the coordinates.\")\n"
   ]
  },
  {
   "cell_type": "code",
   "execution_count": 11,
   "id": "fe06b38d",
   "metadata": {},
   "outputs": [
    {
     "data": {
      "text/plain": [
       "(4353, 1547)"
      ]
     },
     "execution_count": 11,
     "metadata": {},
     "output_type": "execute_result"
    }
   ],
   "source": [
    "land_cover_matrix.shape"
   ]
  },
  {
   "cell_type": "code",
   "execution_count": 12,
   "id": "4da33674",
   "metadata": {},
   "outputs": [
    {
     "data": {
      "text/plain": [
       "array([[43, 43, 21, ..., 81, 81, 81],\n",
       "       [43, 43, 21, ..., 81, 81, 81],\n",
       "       [43, 43, 21, ..., 81, 81, 81],\n",
       "       ...,\n",
       "       [71, 71, 52, ..., 42, 42, 42],\n",
       "       [71, 52, 52, ..., 42, 42, 42],\n",
       "       [52, 52, 52, ..., 42, 42, 42]], dtype=uint8)"
      ]
     },
     "execution_count": 12,
     "metadata": {},
     "output_type": "execute_result"
    }
   ],
   "source": [
    "land_cover_matrix"
   ]
  },
  {
   "cell_type": "code",
   "execution_count": 18,
   "id": "d1bc1669",
   "metadata": {},
   "outputs": [
    {
     "name": "stdout",
     "output_type": "stream",
     "text": [
      "Unique Land Cover Classes: [11 21 22 23 24 31 41 42 43 52 71 81 82 90 95]\n",
      "Original Matrix Shape: (4353, 1547)\n",
      "One-hot Encoded Shape: (15, 4353, 1547)\n"
     ]
    }
   ],
   "source": [
    "# Get unique land cover classes\n",
    "unique_classes = np.unique(land_cover_matrix)\n",
    "num_classes = len(unique_classes)\n",
    "\n",
    "print(f\"Unique Land Cover Classes: {unique_classes}\")\n",
    "print(f\"Original Matrix Shape: {land_cover_matrix.shape}\")\n",
    "\n",
    "# Initialize one-hot encoded matrix (num_classes, height, width)\n",
    "one_hot_encoded = np.zeros((num_classes, *land_cover_matrix.shape), dtype=np.uint8)\n",
    "\n",
    "# Populate the one-hot matrix\n",
    "for i, category in enumerate(unique_classes):\n",
    "    one_hot_encoded[i] = (land_cover_matrix == category).astype(np.uint8)\n",
    "\n",
    "# Verify shape\n",
    "print(f\"One-hot Encoded Shape: {one_hot_encoded.shape}\")  # Expected (10, 4353, 1547)\n"
   ]
  },
  {
   "cell_type": "code",
   "execution_count": 21,
   "id": "ff2059c4",
   "metadata": {},
   "outputs": [],
   "source": [
    "# Save the one-hot encoded array as a NumPy file\n",
    "np.save(\"NLCD2021_OR.npy\", one_hot_encoded)"
   ]
  },
  {
   "cell_type": "code",
   "execution_count": 20,
   "id": "ec10c231",
   "metadata": {
    "scrolled": true
   },
   "outputs": [
    {
     "data": {
      "text/plain": [
       "array([[[0, 0, 0, ..., 0, 0, 0],\n",
       "        [0, 0, 0, ..., 0, 0, 0],\n",
       "        [0, 0, 0, ..., 0, 0, 0],\n",
       "        ...,\n",
       "        [0, 0, 0, ..., 0, 0, 0],\n",
       "        [0, 0, 0, ..., 0, 0, 0],\n",
       "        [0, 0, 0, ..., 0, 0, 0]],\n",
       "\n",
       "       [[0, 0, 1, ..., 0, 0, 0],\n",
       "        [0, 0, 1, ..., 0, 0, 0],\n",
       "        [0, 0, 1, ..., 0, 0, 0],\n",
       "        ...,\n",
       "        [0, 0, 0, ..., 0, 0, 0],\n",
       "        [0, 0, 0, ..., 0, 0, 0],\n",
       "        [0, 0, 0, ..., 0, 0, 0]],\n",
       "\n",
       "       [[0, 0, 0, ..., 0, 0, 0],\n",
       "        [0, 0, 0, ..., 0, 0, 0],\n",
       "        [0, 0, 0, ..., 0, 0, 0],\n",
       "        ...,\n",
       "        [0, 0, 0, ..., 0, 0, 0],\n",
       "        [0, 0, 0, ..., 0, 0, 0],\n",
       "        [0, 0, 0, ..., 0, 0, 0]],\n",
       "\n",
       "       ...,\n",
       "\n",
       "       [[0, 0, 0, ..., 0, 0, 0],\n",
       "        [0, 0, 0, ..., 0, 0, 0],\n",
       "        [0, 0, 0, ..., 0, 0, 0],\n",
       "        ...,\n",
       "        [0, 0, 0, ..., 0, 0, 0],\n",
       "        [0, 0, 0, ..., 0, 0, 0],\n",
       "        [0, 0, 0, ..., 0, 0, 0]],\n",
       "\n",
       "       [[0, 0, 0, ..., 0, 0, 0],\n",
       "        [0, 0, 0, ..., 0, 0, 0],\n",
       "        [0, 0, 0, ..., 0, 0, 0],\n",
       "        ...,\n",
       "        [0, 0, 0, ..., 0, 0, 0],\n",
       "        [0, 0, 0, ..., 0, 0, 0],\n",
       "        [0, 0, 0, ..., 0, 0, 0]],\n",
       "\n",
       "       [[0, 0, 0, ..., 0, 0, 0],\n",
       "        [0, 0, 0, ..., 0, 0, 0],\n",
       "        [0, 0, 0, ..., 0, 0, 0],\n",
       "        ...,\n",
       "        [0, 0, 0, ..., 0, 0, 0],\n",
       "        [0, 0, 0, ..., 0, 0, 0],\n",
       "        [0, 0, 0, ..., 0, 0, 0]]], dtype=uint8)"
      ]
     },
     "execution_count": 20,
     "metadata": {},
     "output_type": "execute_result"
    }
   ],
   "source": [
    "one_hot_encoded"
   ]
  },
  {
   "cell_type": "code",
   "execution_count": null,
   "id": "1f8eefc8",
   "metadata": {},
   "outputs": [],
   "source": []
  }
 ],
 "metadata": {
  "kernelspec": {
   "display_name": "Python 3",
   "language": "python",
   "name": "python3"
  },
  "language_info": {
   "codemirror_mode": {
    "name": "ipython",
    "version": 3
   },
   "file_extension": ".py",
   "mimetype": "text/x-python",
   "name": "python",
   "nbconvert_exporter": "python",
   "pygments_lexer": "ipython3",
   "version": "3.8.8"
  }
 },
 "nbformat": 4,
 "nbformat_minor": 5
}
