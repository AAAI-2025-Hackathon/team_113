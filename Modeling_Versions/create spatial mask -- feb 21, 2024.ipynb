{
 "cells": [
  {
   "cell_type": "code",
   "execution_count": 1,
   "id": "4e1971cb",
   "metadata": {},
   "outputs": [],
   "source": [
    "import os\n",
    "import pandas as pd\n",
    "import numpy as np\n",
    "import seaborn as sns\n",
    "import matplotlib.pyplot as plt\n",
    "%matplotlib inline"
   ]
  },
  {
   "cell_type": "code",
   "execution_count": 2,
   "id": "b6efe1f0",
   "metadata": {},
   "outputs": [],
   "source": [
    "def max_pooling_batch(matrices, new_shape):\n",
    "    original_batch, original_height, original_width = matrices.shape  \n",
    "    target_height, target_width = new_shape\n",
    "    pool_size = original_width // target_width\n",
    "    reshaped = matrices.reshape(original_batch, original_height, target_width, pool_size)\n",
    "    pooled = np.max(reshaped, axis=3)\n",
    "    return pooled\n",
    "\n",
    "def count_and_percentage(array):\n",
    "    flattened = array.flatten()\n",
    "    unique, counts = np.unique(flattened, return_counts=True)\n",
    "    total_elements = flattened.size\n",
    "    count_dict = dict(zip(unique, counts))\n",
    "    percentage_dict = {key: (value / total_elements) * 100 for key, value in count_dict.items()}\n",
    "    return count_dict, percentage_dict"
   ]
  },
  {
   "cell_type": "code",
   "execution_count": 3,
   "id": "9f7e4da8",
   "metadata": {},
   "outputs": [
    {
     "name": "stdout",
     "output_type": "stream",
     "text": [
      "Counts: {0.0: 15118676, 1.0: 303439, 2.0: 360285}\n",
      "Percentages: {0.0: 95.79453061638281, 1.0: 1.9226416768045418, 2.0: 2.282827706812652}\n"
     ]
    }
   ],
   "source": [
    "label = np.load('landslide_labels_stored_sequentially_compressed.npz') \n",
    "output_labels = label['matrix']\n",
    "labels_resized = max_pooling_batch(output_labels, (120, 120))  # Output shape: (1096, 120, 120)\n",
    "counts, percentages = count_and_percentage(labels_resized)\n",
    "print(\"Counts:\", counts)  \n",
    "print(\"Percentages:\", percentages)"
   ]
  },
  {
   "cell_type": "code",
   "execution_count": 4,
   "id": "e3172eee",
   "metadata": {},
   "outputs": [
    {
     "data": {
      "text/plain": [
       "numpy.ndarray"
      ]
     },
     "execution_count": 4,
     "metadata": {},
     "output_type": "execute_result"
    }
   ],
   "source": [
    "type(labels_resized)"
   ]
  },
  {
   "cell_type": "code",
   "execution_count": 7,
   "id": "1e634e8c",
   "metadata": {},
   "outputs": [
    {
     "name": "stdout",
     "output_type": "stream",
     "text": [
      "Counts: {0: 7290, 1: 7110}\n",
      "Percentages: {0: 50.625, 1: 49.375}\n"
     ]
    },
    {
     "data": {
      "text/plain": [
       "(120, 120)"
      ]
     },
     "execution_count": 7,
     "metadata": {},
     "output_type": "execute_result"
    }
   ],
   "source": [
    "# Apply the transformation: create a 2D matrix where each element is 1 if it was 1 or 2 in any slice\n",
    "spatial_mask = np.any((labels_resized == 1) | (labels_resized == 2), axis=0).astype(int)\n",
    "counts, percentages = count_and_percentage(spatial_mask)\n",
    "print(\"Counts:\", counts)  \n",
    "print(\"Percentages:\", percentages)\n",
    "spatial_mask.shape"
   ]
  },
  {
   "cell_type": "code",
   "execution_count": 8,
   "id": "15937ec1",
   "metadata": {},
   "outputs": [],
   "source": [
    "np.save('spatial_mask.npy', spatial_mask)"
   ]
  },
  {
   "cell_type": "code",
   "execution_count": null,
   "id": "da03596f",
   "metadata": {},
   "outputs": [],
   "source": []
  }
 ],
 "metadata": {
  "kernelspec": {
   "display_name": "Python 3 (ipykernel)",
   "language": "python",
   "name": "python3"
  },
  "language_info": {
   "codemirror_mode": {
    "name": "ipython",
    "version": 3
   },
   "file_extension": ".py",
   "mimetype": "text/x-python",
   "name": "python",
   "nbconvert_exporter": "python",
   "pygments_lexer": "ipython3",
   "version": "3.8.10"
  }
 },
 "nbformat": 4,
 "nbformat_minor": 5
}
