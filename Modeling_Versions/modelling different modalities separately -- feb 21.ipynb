{
 "cells": [
  {
   "cell_type": "markdown",
   "id": "3a7813cc",
   "metadata": {},
   "source": [
    "# not changed for before"
   ]
  },
  {
   "cell_type": "code",
   "execution_count": 1,
   "id": "d76a7d05",
   "metadata": {},
   "outputs": [],
   "source": [
    "import torch\n",
    "import torch.nn as nn\n",
    "import torch.nn.functional as F\n",
    "import torch.optim as optim\n",
    "from torch.utils.data import Dataset, DataLoader\n",
    "import os\n",
    "from sklearn.decomposition import PCA\n",
    "import pandas as pd\n",
    "import numpy as np\n",
    "import seaborn as sns\n",
    "import matplotlib.pyplot as plt\n",
    "import time\n",
    "import random\n",
    "%matplotlib inline"
   ]
  },
  {
   "cell_type": "code",
   "execution_count": 2,
   "id": "cbeec69a",
   "metadata": {},
   "outputs": [],
   "source": [
    "def max_pooling_batch(matrices, new_shape):\n",
    "    original_batch, original_height, original_width = matrices.shape  \n",
    "    target_height, target_width = new_shape\n",
    "    pool_size = original_width // target_width\n",
    "    reshaped = matrices.reshape(original_batch, original_height, target_width, pool_size)\n",
    "    pooled = np.max(reshaped, axis=3)\n",
    "    return pooled\n",
    "\n",
    "def count_and_percentage(array):\n",
    "    flattened = array.flatten()\n",
    "    unique, counts = np.unique(flattened, return_counts=True)\n",
    "    total_elements = flattened.size\n",
    "    count_dict = dict(zip(unique, counts))\n",
    "    percentage_dict = {key: (value / total_elements) * 100 for key, value in count_dict.items()}\n",
    "    return count_dict, percentage_dict\n",
    "\n",
    "def resize_tensor_bilinear(tensor, target_size, mode='bilinear'):\n",
    "    tensor = tensor.unsqueeze(0)\n",
    "    resized = F.interpolate(tensor, size=target_size, mode=mode, align_corners=False)\n",
    "    return resized.squeeze(0)\n",
    "\n",
    "def resize_tensor_nearest(tensor, target_size, mode='nearest'):\n",
    "    tensor = tensor.unsqueeze(0)\n",
    "    resized = F.interpolate(tensor, size=target_size, mode=mode)\n",
    "    return resized.squeeze(0)\n",
    "\n",
    "\n",
    "def normalize_tensor(tensor):\n",
    "    min_val = tensor.min(dim=-1, keepdim=True).values.min(dim=-2, keepdim=True).values\n",
    "    max_val = tensor.max(dim=-1, keepdim=True).values.max(dim=-2, keepdim=True).values\n",
    "    return ((tensor - min_val) / ((max_val - min_val) + 1e-8))"
   ]
  },
  {
   "cell_type": "code",
   "execution_count": 3,
   "id": "5c6c7c14",
   "metadata": {},
   "outputs": [
    {
     "name": "stdout",
     "output_type": "stream",
     "text": [
      "anylithicdpt_2D_matrix.npy\n",
      "resdept_2D_matrix.npy\n"
     ]
    }
   ],
   "source": [
    "#ELEVATION DATA\n",
    "elevation_data = np.load('elevation_matrix.npy') \n",
    "\n",
    "#VEGETATION DATA\n",
    "vegetation_data = np.load('NLCD2021_OR.npy') \n",
    "\n",
    "#SOIL VARIABLE DATA\n",
    "directory = \"ERA5_matrices\"  \n",
    "npy_files = sorted([f for f in os.listdir(directory) if f.endswith('.npy')])\n",
    "matrices = [np.load(os.path.join(directory, file)) for file in npy_files]\n",
    "data = np.stack(matrices, axis=0)  # Shape: (num_files, height, width)\n",
    "soil_variable_data = np.transpose(data, (1, 0, 2, 3)) \n",
    "\n",
    "#SOIL COMPOSITION DATA\n",
    "data_folder = \"SOLUS\"\n",
    "npy_files = [f for f in os.listdir(data_folder) if f.endswith('.npy')]\n",
    "num_files = len(npy_files)\n",
    "transformed_data_list = []\n",
    "pca = PCA(n_components=1)\n",
    "for file in npy_files:\n",
    "    file_path = os.path.join(data_folder, file)\n",
    "    soil_data = np.load(file_path)\n",
    "    try:\n",
    "        reshaped_data = soil_data.reshape(7, -1).T\n",
    "    except:\n",
    "        print(file)\n",
    "        continue\n",
    "    principal_component = pca.fit_transform(reshaped_data)  \n",
    "    reduced_data = principal_component.reshape(1306, 464)\n",
    "    transformed_data_list.append(reduced_data)\n",
    "soil_composition_data = np.stack(transformed_data_list, axis=0) "
   ]
  },
  {
   "cell_type": "code",
   "execution_count": 4,
   "id": "1fdd019f",
   "metadata": {},
   "outputs": [
    {
     "name": "stdout",
     "output_type": "stream",
     "text": [
      "ELEVATION DATA : (10812, 10812)\n",
      "VEGETATION DATA : (15, 4353, 1547)\n",
      "SOIL VARIABLE DATA : (1096, 28, 5, 5)\n",
      "SOIL COMPOSITION DATA : (18, 1306, 464)\n"
     ]
    }
   ],
   "source": [
    "print(f\"ELEVATION DATA : {elevation_data.shape}\")\n",
    "print(f\"VEGETATION DATA : {vegetation_data.shape}\")\n",
    "print(f\"SOIL VARIABLE DATA : {soil_variable_data.shape}\")\n",
    "print(f\"SOIL COMPOSITION DATA : {soil_composition_data.shape}\")"
   ]
  },
  {
   "cell_type": "code",
   "execution_count": 5,
   "id": "f54b1739",
   "metadata": {},
   "outputs": [
    {
     "name": "stdout",
     "output_type": "stream",
     "text": [
      "Counts: {0.0: 15118676, 1.0: 303439, 2.0: 360285}\n",
      "Percentages: {0.0: 95.79453061638281, 1.0: 1.9226416768045418, 2.0: 2.282827706812652}\n"
     ]
    }
   ],
   "source": [
    "label = np.load('landslide_labels_stored_sequentially_compressed.npz') \n",
    "output_labels = label['matrix']\n",
    "labels_resized = max_pooling_batch(output_labels, (120, 120))  # Output shape: (1096, 120, 120)\n",
    "counts, percentages = count_and_percentage(labels_resized)\n",
    "print(\"Counts:\", counts)  \n",
    "print(\"Percentages:\", percentages)"
   ]
  },
  {
   "cell_type": "code",
   "execution_count": 6,
   "id": "804cc8b3",
   "metadata": {},
   "outputs": [
    {
     "name": "stdout",
     "output_type": "stream",
     "text": [
      "OUTPUT LABELS : (1096, 120, 120)\n"
     ]
    }
   ],
   "source": [
    "print(f\"OUTPUT LABELS : {labels_resized.shape}\")"
   ]
  },
  {
   "cell_type": "code",
   "execution_count": 7,
   "id": "7ccd4abf",
   "metadata": {},
   "outputs": [
    {
     "data": {
      "text/plain": [
       "torch.Size([120, 120])"
      ]
     },
     "execution_count": 7,
     "metadata": {},
     "output_type": "execute_result"
    }
   ],
   "source": [
    "spatial_mask = np.load('spatial_mask.npy') \n",
    "spatial_mask = torch.tensor(spatial_mask, dtype=torch.float)\n",
    "spatial_mask.to(device)"
   ]
  },
  {
   "cell_type": "code",
   "execution_count": 8,
   "id": "c0054b1a",
   "metadata": {},
   "outputs": [],
   "source": [
    "elevation_data = torch.tensor(elevation_data, dtype=torch.float).unsqueeze(0)  # (1, 10812, 10812)\n",
    "vegetation_data = torch.tensor(vegetation_data, dtype=torch.float)             # (15, 4353, 1547)\n",
    "soil_composition_data = torch.tensor(soil_composition_data, dtype=torch.float) # (18, 1306, 464)\n",
    "soil_variable_data = torch.tensor(soil_variable_data, dtype=torch.float)       # (1096, 28, 5, 5)\n",
    "output_labels = torch.tensor(labels_resized, dtype=torch.long)                 # (1096, 120, 120)"
   ]
  },
  {
   "cell_type": "code",
   "execution_count": 9,
   "id": "061a3bc2",
   "metadata": {},
   "outputs": [
    {
     "name": "stdout",
     "output_type": "stream",
     "text": [
      "ELEVATION DATA : torch.Size([1, 10812, 10812])\n",
      "VEGETATION DATA : torch.Size([15, 4353, 1547])\n",
      "SOIL VARIABLE DATA : torch.Size([1096, 28, 5, 5])\n",
      "SOIL COMPOSITION DATA : torch.Size([18, 1306, 464])\n",
      "OUTPUT LABELS : torch.Size([1096, 120, 120])\n"
     ]
    }
   ],
   "source": [
    "print(f\"ELEVATION DATA : {elevation_data.shape}\")\n",
    "print(f\"VEGETATION DATA : {vegetation_data.shape}\")\n",
    "print(f\"SOIL VARIABLE DATA : {soil_variable_data.shape}\")\n",
    "print(f\"SOIL COMPOSITION DATA : {soil_composition_data.shape}\")\n",
    "print(f\"OUTPUT LABELS : {output_labels.shape}\")"
   ]
  },
  {
   "cell_type": "markdown",
   "id": "f71c96a7",
   "metadata": {},
   "source": [
    "# my changes"
   ]
  },
  {
   "cell_type": "code",
   "execution_count": 10,
   "id": "dfa7b648",
   "metadata": {},
   "outputs": [],
   "source": [
    "class DayDataset(Dataset):\n",
    "    def __init__(self, day_indices, vegetation, elevation, soil_comp, soil_var, labels):\n",
    "        \"\"\"\n",
    "        Args:\n",
    "          day_indices: list of day indices (e.g., [0, 1, 2, ...])\n",
    "          vegetation: static vegetation data, already resized, shape (15, target_H, target_W)\n",
    "          elevation: static elevation data, already resized, shape (1, target_H, target_W)\n",
    "          soil_comp: static soil composition data, already resized, shape (18, target_H, target_W)\n",
    "          soil_var: daily soil variable data, shape (1096, 28, 5, 5)\n",
    "          labels: daily output labels, shape (1096, target_H, target_W)\n",
    "          target_size: the target spatial size (target_H, target_W) for all inputs\n",
    "        \"\"\"\n",
    "        self.day_indices = day_indices\n",
    "        self.vegetation = vegetation\n",
    "        self.elevation = elevation\n",
    "        self.soil_comp = soil_comp\n",
    "        self.soil_var = soil_var\n",
    "        self.labels = labels\n",
    "\n",
    "    def __len__(self):\n",
    "        return len(self.day_indices)\n",
    "\n",
    "    def __getitem__(self, idx):\n",
    "        day = self.day_indices[idx]\n",
    "        soil_var_day = self.soil_var[day] \n",
    "        #input_tensor = torch.cat([self.vegetation, self.elevation, self.soil_comp, soil_variable_normalized], dim=0)\n",
    "        label = self.labels[day]\n",
    "        \n",
    "        return self.vegetation, self.elevation, self.soil_comp, soil_var_day, label"
   ]
  },
  {
   "cell_type": "code",
   "execution_count": 11,
   "id": "ae078f2c",
   "metadata": {},
   "outputs": [],
   "source": [
    "# all_days = list(range(1096))\n",
    "# train_days = list(range(0, 730))\n",
    "# test_days = list(range(730, 1096))\n",
    "# val_days = train_days[-100:] \n",
    "# train_days = train_days[:-100]\n",
    "all_days = list(range(1096))\n",
    "train_days = list(range(0, 730))\n",
    "test_days = list(range(730, 1096))\n",
    "val_days = random.sample(train_days, 100) # Randomly select 100 days from train_days for validation\n",
    "train_days = [day for day in train_days if day not in val_days] # Remove the selected validation days from train_days"
   ]
  },
  {
   "cell_type": "code",
   "execution_count": 12,
   "id": "91f8dfe4",
   "metadata": {},
   "outputs": [],
   "source": [
    "train_dataset = DayDataset(train_days, vegetation_data, elevation_data,\n",
    "                           soil_composition_data, soil_variable_data, output_labels)"
   ]
  },
  {
   "cell_type": "code",
   "execution_count": 13,
   "id": "abf812da",
   "metadata": {},
   "outputs": [
    {
     "data": {
      "text/plain": [
       "5"
      ]
     },
     "execution_count": 13,
     "metadata": {},
     "output_type": "execute_result"
    }
   ],
   "source": [
    "len(train_dataset[0])"
   ]
  },
  {
   "cell_type": "code",
   "execution_count": 14,
   "id": "a1cc356c",
   "metadata": {},
   "outputs": [],
   "source": [
    "val_dataset = DayDataset(val_days, vegetation_data, elevation_data,\n",
    "                           soil_composition_data, soil_variable_data, output_labels)\n",
    "test_dataset = DayDataset(test_days, vegetation_data, elevation_data,\n",
    "                           soil_composition_data, soil_variable_data, output_labels)"
   ]
  },
  {
   "cell_type": "code",
   "execution_count": 15,
   "id": "2f6ae3ac",
   "metadata": {},
   "outputs": [],
   "source": [
    "batch_size = 4\n",
    "train_loader = DataLoader(train_dataset, batch_size=batch_size, shuffle=True)\n",
    "val_loader   = DataLoader(val_dataset, batch_size=batch_size, shuffle=False)\n",
    "test_loader  = DataLoader(test_dataset, batch_size=batch_size, shuffle=False)"
   ]
  },
  {
   "cell_type": "code",
   "execution_count": 16,
   "id": "76bcc0cd",
   "metadata": {},
   "outputs": [],
   "source": [
    "from MutliModalFCN import *"
   ]
  },
  {
   "cell_type": "code",
   "execution_count": 17,
   "id": "94d9d1cf",
   "metadata": {},
   "outputs": [],
   "source": [
    "num_classes = 3\n",
    "model = FCN(4, num_classes)\n",
    "model_veg = VegetationConvNet()\n",
    "model_elevation = ElevationConvNet()\n",
    "model_ERA = ERA5ConvNet()\n",
    "model_solus = SOLUSConvNet()"
   ]
  },
  {
   "cell_type": "code",
   "execution_count": null,
   "id": "cc6f2d39",
   "metadata": {},
   "outputs": [],
   "source": [
    "device = torch.device(\"cuda\" if torch.cuda.is_available() else \"cpu\")\n",
    "model.to(device)\n",
    "model_veg.to(device)\n",
    "model_elevation.to(device)\n",
    "model_ERA.to(device)\n",
    "model_solus.to(device)"
   ]
  },
  {
   "cell_type": "code",
   "execution_count": 18,
   "id": "0bf64d54",
   "metadata": {},
   "outputs": [],
   "source": [
    "class EarlyStopping:\n",
    "    def __init__(self, patience=5, delta=0):\n",
    "        self.patience = patience\n",
    "        self.delta = delta\n",
    "        self.best_score = None\n",
    "        self.early_stop = False\n",
    "        self.counter = 0\n",
    "        self.best_model_state = None\n",
    "\n",
    "    def __call__(self, val_loss, model):\n",
    "        score = -val_loss\n",
    "\n",
    "        if self.best_score is None:\n",
    "            self.best_score = score\n",
    "            self.best_model_state = model.state_dict()\n",
    "        elif score < self.best_score + self.delta:\n",
    "            self.counter += 1\n",
    "            if self.counter >= self.patience:\n",
    "                self.early_stop = True\n",
    "        else:\n",
    "            self.best_score = score\n",
    "            self.best_model_state = model.state_dict()\n",
    "            self.counter = 0\n",
    "\n",
    "    def load_best_model(self, model):\n",
    "        model.load_state_dict(self.best_model_state)"
   ]
  },
  {
   "cell_type": "code",
   "execution_count": 19,
   "id": "56b1b51b",
   "metadata": {},
   "outputs": [],
   "source": [
    "import torch\n",
    "import torch.nn.functional as F\n",
    "\n",
    "class MaskedCrossEntropyLoss(torch.nn.Module):\n",
    "    def __init__(self, class_weights=None):\n",
    "        super(MaskedCrossEntropyLoss, self).__init__()\n",
    "        # If class weights are provided, store them as a tensor\n",
    "        if class_weights is not None:\n",
    "            self.class_weights = torch.tensor(class_weights).float()\n",
    "        else:\n",
    "            self.class_weights = None\n",
    "            \n",
    "            \n",
    "    def forward(self, outputs, labels, spatial_mask):\n",
    "        # Flatten the outputs, labels, and spatial_mask\n",
    "        B, C, H, W = outputs.shape\n",
    "        outputs_flat = outputs.view(B, C, -1)  # shape: (B, C, H*W)\n",
    "        labels_flat = labels.view(B, -1)  # shape: (B, H*W)\n",
    "        \n",
    "        # Expand the spatial mask to match the shape of outputs (B, H, W)\n",
    "        spatial_mask_expanded = spatial_mask.unsqueeze(0).expand(B, -1, -1)  # shape: (B, H, W)\n",
    "        spatial_mask_flat = spatial_mask_expanded.view(B, -1)  # shape: (B, H*W)\n",
    "\n",
    "        # Apply the spatial mask (only consider masked positions)\n",
    "        mask_indices = spatial_mask_flat == 1\n",
    "\n",
    "        # Flatten the outputs and labels to (B*H*W, C) and (B*H*W,)\n",
    "        outputs_flat = outputs_flat.view(-1, C)  # shape: (B*H*W, C)\n",
    "        labels_flat = labels_flat.view(-1)  # shape: (B*H*W,)\n",
    "        \n",
    "        # Apply mask to the flattened outputs and labels\n",
    "        masked_outputs = outputs_flat[mask_indices.view(-1)]\n",
    "        masked_labels = labels_flat[mask_indices.view(-1)]\n",
    "\n",
    "        # Calculate the cross-entropy loss only on masked positions\n",
    "        if masked_outputs.size(0) > 0:  # Avoid division by zero\n",
    "            loss = F.cross_entropy(masked_outputs, masked_labels, weight=self.class_weights)\n",
    "        else:\n",
    "            loss = torch.tensor(0.0).to(outputs.device)\n",
    "\n",
    "        return loss\n"
   ]
  },
  {
   "cell_type": "code",
   "execution_count": 20,
   "id": "0c4ba1eb",
   "metadata": {},
   "outputs": [
    {
     "name": "stderr",
     "output_type": "stream",
     "text": [
      "/tmp/ipykernel_1530028/753182092.py:9: UserWarning: To copy construct from a tensor, it is recommended to use sourceTensor.clone().detach() or sourceTensor.clone().detach().requires_grad_(True), rather than torch.tensor(sourceTensor).\n",
      "  self.class_weights = torch.tensor(class_weights).float()\n"
     ]
    }
   ],
   "source": [
    "freq = torch.tensor([0.923, 0.038, 0.039])\n",
    "weights = 1.0 / freq\n",
    "weights = weights / weights.sum()\n",
    "\n",
    "criterion = MaskedCrossEntropyLoss(class_weights = weights)  \n",
    "optimizer = optim.AdamW(list(model.parameters())+list(model_veg.parameters())+list(model_elevation.parameters())+\n",
    "                        list(model_ERA.parameters())+list(model_solus.parameters()), lr=0.01, weight_decay=0.0001)\n",
    "early_stopping = EarlyStopping(patience=15, delta=0.01)"
   ]
  },
  {
   "cell_type": "code",
   "execution_count": 21,
   "id": "f8ebb430",
   "metadata": {},
   "outputs": [
    {
     "name": "stdout",
     "output_type": "stream",
     "text": [
      "Epoch 1/1000  Train Loss: 1.1071  Val Loss: 1.0202\n",
      "Epoch 2/1000  Train Loss: 0.9545  Val Loss: 0.9225\n",
      "Epoch 3/1000  Train Loss: 0.9098  Val Loss: 0.9076\n",
      "Epoch 4/1000  Train Loss: 0.8893  Val Loss: 0.8900\n",
      "Epoch 5/1000  Train Loss: 0.8834  Val Loss: 0.8746\n",
      "Epoch 6/1000  Train Loss: 0.8696  Val Loss: 0.9024\n",
      "Epoch 7/1000  Train Loss: 0.8635  Val Loss: 0.8774\n",
      "Epoch 8/1000  Train Loss: 0.8575  Val Loss: 0.8708\n",
      "Epoch 9/1000  Train Loss: 0.8514  Val Loss: 0.8870\n",
      "Epoch 10/1000  Train Loss: 0.8486  Val Loss: 0.8665\n",
      "Epoch 11/1000  Train Loss: 0.8491  Val Loss: 0.8812\n",
      "Epoch 12/1000  Train Loss: 0.8512  Val Loss: 0.8724\n",
      "Epoch 13/1000  Train Loss: 0.8479  Val Loss: 0.8543\n",
      "Epoch 14/1000  Train Loss: 0.8439  Val Loss: 0.8549\n",
      "Epoch 15/1000  Train Loss: 0.8442  Val Loss: 0.8649\n",
      "Epoch 16/1000  Train Loss: 0.8461  Val Loss: 0.8614\n",
      "Epoch 17/1000  Train Loss: 0.8448  Val Loss: 0.8583\n",
      "Epoch 18/1000  Train Loss: 0.8419  Val Loss: 0.8592\n",
      "Epoch 19/1000  Train Loss: 0.8418  Val Loss: 0.8519\n",
      "Epoch 20/1000  Train Loss: 0.8419  Val Loss: 0.8522\n",
      "Epoch 21/1000  Train Loss: 0.8385  Val Loss: 0.8505\n",
      "Epoch 22/1000  Train Loss: 0.8395  Val Loss: 0.8557\n",
      "Epoch 23/1000  Train Loss: 0.8413  Val Loss: 0.8525\n",
      "Epoch 24/1000  Train Loss: 0.8391  Val Loss: 0.8507\n",
      "Epoch 25/1000  Train Loss: 0.8385  Val Loss: 0.8452\n",
      "Epoch 26/1000  Train Loss: 0.8453  Val Loss: 0.8449\n",
      "Epoch 27/1000  Train Loss: 0.8362  Val Loss: 0.8535\n",
      "Epoch 28/1000  Train Loss: 0.8384  Val Loss: 0.8421\n",
      "Epoch 29/1000  Train Loss: 0.8355  Val Loss: 0.8512\n",
      "Epoch 30/1000  Train Loss: 0.8367  Val Loss: 0.8511\n"
     ]
    },
    {
     "ename": "KeyboardInterrupt",
     "evalue": "",
     "output_type": "error",
     "traceback": [
      "\u001b[0;31m---------------------------------------------------------------------------\u001b[0m",
      "\u001b[0;31mKeyboardInterrupt\u001b[0m                         Traceback (most recent call last)",
      "\u001b[0;32m/tmp/ipykernel_1530028/3961184683.py\u001b[0m in \u001b[0;36m<module>\u001b[0;34m\u001b[0m\n\u001b[1;32m     20\u001b[0m \u001b[0;34m\u001b[0m\u001b[0m\n\u001b[1;32m     21\u001b[0m         \u001b[0mveg\u001b[0m \u001b[0;34m=\u001b[0m \u001b[0mmodel_veg\u001b[0m\u001b[0;34m(\u001b[0m\u001b[0minputs\u001b[0m\u001b[0;34m[\u001b[0m\u001b[0;36m0\u001b[0m\u001b[0;34m]\u001b[0m\u001b[0;34m)\u001b[0m\u001b[0;34m\u001b[0m\u001b[0;34m\u001b[0m\u001b[0m\n\u001b[0;32m---> 22\u001b[0;31m         \u001b[0melevation\u001b[0m \u001b[0;34m=\u001b[0m \u001b[0mmodel_elevation\u001b[0m\u001b[0;34m(\u001b[0m\u001b[0minputs\u001b[0m\u001b[0;34m[\u001b[0m\u001b[0;36m1\u001b[0m\u001b[0;34m]\u001b[0m\u001b[0;34m.\u001b[0m\u001b[0msqueeze\u001b[0m\u001b[0;34m(\u001b[0m\u001b[0;36m1\u001b[0m\u001b[0;34m)\u001b[0m\u001b[0;34m)\u001b[0m\u001b[0;34m\u001b[0m\u001b[0;34m\u001b[0m\u001b[0m\n\u001b[0m\u001b[1;32m     23\u001b[0m         \u001b[0mera\u001b[0m \u001b[0;34m=\u001b[0m \u001b[0mmodel_ERA\u001b[0m\u001b[0;34m(\u001b[0m\u001b[0minputs\u001b[0m\u001b[0;34m[\u001b[0m\u001b[0;36m3\u001b[0m\u001b[0;34m]\u001b[0m\u001b[0;34m)\u001b[0m\u001b[0;34m\u001b[0m\u001b[0;34m\u001b[0m\u001b[0m\n\u001b[1;32m     24\u001b[0m         \u001b[0msolus\u001b[0m \u001b[0;34m=\u001b[0m \u001b[0mmodel_solus\u001b[0m\u001b[0;34m(\u001b[0m\u001b[0minputs\u001b[0m\u001b[0;34m[\u001b[0m\u001b[0;36m2\u001b[0m\u001b[0;34m]\u001b[0m\u001b[0;34m)\u001b[0m\u001b[0;34m\u001b[0m\u001b[0;34m\u001b[0m\u001b[0m\n",
      "\u001b[0;32m~/.local/lib/python3.8/site-packages/torch/nn/modules/module.py\u001b[0m in \u001b[0;36m_call_impl\u001b[0;34m(self, *input, **kwargs)\u001b[0m\n\u001b[1;32m   1128\u001b[0m         if not (self._backward_hooks or self._forward_hooks or self._forward_pre_hooks or _global_backward_hooks\n\u001b[1;32m   1129\u001b[0m                 or _global_forward_hooks or _global_forward_pre_hooks):\n\u001b[0;32m-> 1130\u001b[0;31m             \u001b[0;32mreturn\u001b[0m \u001b[0mforward_call\u001b[0m\u001b[0;34m(\u001b[0m\u001b[0;34m*\u001b[0m\u001b[0minput\u001b[0m\u001b[0;34m,\u001b[0m \u001b[0;34m**\u001b[0m\u001b[0mkwargs\u001b[0m\u001b[0;34m)\u001b[0m\u001b[0;34m\u001b[0m\u001b[0;34m\u001b[0m\u001b[0m\n\u001b[0m\u001b[1;32m   1131\u001b[0m         \u001b[0;31m# Do not call functions when jit is used\u001b[0m\u001b[0;34m\u001b[0m\u001b[0;34m\u001b[0m\u001b[0;34m\u001b[0m\u001b[0m\n\u001b[1;32m   1132\u001b[0m         \u001b[0mfull_backward_hooks\u001b[0m\u001b[0;34m,\u001b[0m \u001b[0mnon_full_backward_hooks\u001b[0m \u001b[0;34m=\u001b[0m \u001b[0;34m[\u001b[0m\u001b[0;34m]\u001b[0m\u001b[0;34m,\u001b[0m \u001b[0;34m[\u001b[0m\u001b[0;34m]\u001b[0m\u001b[0;34m\u001b[0m\u001b[0;34m\u001b[0m\u001b[0m\n",
      "\u001b[0;32m~/Desktop/AAAI hackathon/MutliModalFCN.py\u001b[0m in \u001b[0;36mforward\u001b[0;34m(self, x)\u001b[0m\n\u001b[1;32m    109\u001b[0m \u001b[0;34m\u001b[0m\u001b[0m\n\u001b[1;32m    110\u001b[0m         \u001b[0;31m# Apply convolutions and pooling\u001b[0m\u001b[0;34m\u001b[0m\u001b[0;34m\u001b[0m\u001b[0;34m\u001b[0m\u001b[0m\n\u001b[0;32m--> 111\u001b[0;31m         \u001b[0mx\u001b[0m \u001b[0;34m=\u001b[0m \u001b[0mself\u001b[0m\u001b[0;34m.\u001b[0m\u001b[0mpool1\u001b[0m\u001b[0;34m(\u001b[0m\u001b[0mself\u001b[0m\u001b[0;34m.\u001b[0m\u001b[0mconv3\u001b[0m\u001b[0;34m(\u001b[0m\u001b[0mself\u001b[0m\u001b[0;34m.\u001b[0m\u001b[0mconv2\u001b[0m\u001b[0;34m(\u001b[0m\u001b[0mself\u001b[0m\u001b[0;34m.\u001b[0m\u001b[0mconv1\u001b[0m\u001b[0;34m(\u001b[0m\u001b[0mx\u001b[0m\u001b[0;34m)\u001b[0m\u001b[0;34m)\u001b[0m\u001b[0;34m)\u001b[0m\u001b[0;34m)\u001b[0m\u001b[0;34m\u001b[0m\u001b[0;34m\u001b[0m\u001b[0m\n\u001b[0m\u001b[1;32m    112\u001b[0m \u001b[0;34m\u001b[0m\u001b[0m\n\u001b[1;32m    113\u001b[0m         \u001b[0;31m# Flatten the output of the convolutional layers\u001b[0m\u001b[0;34m\u001b[0m\u001b[0;34m\u001b[0m\u001b[0;34m\u001b[0m\u001b[0m\n",
      "\u001b[0;32m~/.local/lib/python3.8/site-packages/torch/nn/modules/module.py\u001b[0m in \u001b[0;36m_call_impl\u001b[0;34m(self, *input, **kwargs)\u001b[0m\n\u001b[1;32m   1128\u001b[0m         if not (self._backward_hooks or self._forward_hooks or self._forward_pre_hooks or _global_backward_hooks\n\u001b[1;32m   1129\u001b[0m                 or _global_forward_hooks or _global_forward_pre_hooks):\n\u001b[0;32m-> 1130\u001b[0;31m             \u001b[0;32mreturn\u001b[0m \u001b[0mforward_call\u001b[0m\u001b[0;34m(\u001b[0m\u001b[0;34m*\u001b[0m\u001b[0minput\u001b[0m\u001b[0;34m,\u001b[0m \u001b[0;34m**\u001b[0m\u001b[0mkwargs\u001b[0m\u001b[0;34m)\u001b[0m\u001b[0;34m\u001b[0m\u001b[0;34m\u001b[0m\u001b[0m\n\u001b[0m\u001b[1;32m   1131\u001b[0m         \u001b[0;31m# Do not call functions when jit is used\u001b[0m\u001b[0;34m\u001b[0m\u001b[0;34m\u001b[0m\u001b[0;34m\u001b[0m\u001b[0m\n\u001b[1;32m   1132\u001b[0m         \u001b[0mfull_backward_hooks\u001b[0m\u001b[0;34m,\u001b[0m \u001b[0mnon_full_backward_hooks\u001b[0m \u001b[0;34m=\u001b[0m \u001b[0;34m[\u001b[0m\u001b[0;34m]\u001b[0m\u001b[0;34m,\u001b[0m \u001b[0;34m[\u001b[0m\u001b[0;34m]\u001b[0m\u001b[0;34m\u001b[0m\u001b[0;34m\u001b[0m\u001b[0m\n",
      "\u001b[0;32m~/.local/lib/python3.8/site-packages/torch/nn/modules/conv.py\u001b[0m in \u001b[0;36mforward\u001b[0;34m(self, input)\u001b[0m\n\u001b[1;32m    455\u001b[0m \u001b[0;34m\u001b[0m\u001b[0m\n\u001b[1;32m    456\u001b[0m     \u001b[0;32mdef\u001b[0m \u001b[0mforward\u001b[0m\u001b[0;34m(\u001b[0m\u001b[0mself\u001b[0m\u001b[0;34m,\u001b[0m \u001b[0minput\u001b[0m\u001b[0;34m:\u001b[0m \u001b[0mTensor\u001b[0m\u001b[0;34m)\u001b[0m \u001b[0;34m->\u001b[0m \u001b[0mTensor\u001b[0m\u001b[0;34m:\u001b[0m\u001b[0;34m\u001b[0m\u001b[0;34m\u001b[0m\u001b[0m\n\u001b[0;32m--> 457\u001b[0;31m         \u001b[0;32mreturn\u001b[0m \u001b[0mself\u001b[0m\u001b[0;34m.\u001b[0m\u001b[0m_conv_forward\u001b[0m\u001b[0;34m(\u001b[0m\u001b[0minput\u001b[0m\u001b[0;34m,\u001b[0m \u001b[0mself\u001b[0m\u001b[0;34m.\u001b[0m\u001b[0mweight\u001b[0m\u001b[0;34m,\u001b[0m \u001b[0mself\u001b[0m\u001b[0;34m.\u001b[0m\u001b[0mbias\u001b[0m\u001b[0;34m)\u001b[0m\u001b[0;34m\u001b[0m\u001b[0;34m\u001b[0m\u001b[0m\n\u001b[0m\u001b[1;32m    458\u001b[0m \u001b[0;34m\u001b[0m\u001b[0m\n\u001b[1;32m    459\u001b[0m \u001b[0;32mclass\u001b[0m \u001b[0mConv3d\u001b[0m\u001b[0;34m(\u001b[0m\u001b[0m_ConvNd\u001b[0m\u001b[0;34m)\u001b[0m\u001b[0;34m:\u001b[0m\u001b[0;34m\u001b[0m\u001b[0;34m\u001b[0m\u001b[0m\n",
      "\u001b[0;32m~/.local/lib/python3.8/site-packages/torch/nn/modules/conv.py\u001b[0m in \u001b[0;36m_conv_forward\u001b[0;34m(self, input, weight, bias)\u001b[0m\n\u001b[1;32m    451\u001b[0m                             \u001b[0mweight\u001b[0m\u001b[0;34m,\u001b[0m \u001b[0mbias\u001b[0m\u001b[0;34m,\u001b[0m \u001b[0mself\u001b[0m\u001b[0;34m.\u001b[0m\u001b[0mstride\u001b[0m\u001b[0;34m,\u001b[0m\u001b[0;34m\u001b[0m\u001b[0;34m\u001b[0m\u001b[0m\n\u001b[1;32m    452\u001b[0m                             _pair(0), self.dilation, self.groups)\n\u001b[0;32m--> 453\u001b[0;31m         return F.conv2d(input, weight, bias, self.stride,\n\u001b[0m\u001b[1;32m    454\u001b[0m                         self.padding, self.dilation, self.groups)\n\u001b[1;32m    455\u001b[0m \u001b[0;34m\u001b[0m\u001b[0m\n",
      "\u001b[0;31mKeyboardInterrupt\u001b[0m: "
     ]
    }
   ],
   "source": [
    "import time\n",
    "\n",
    "start = time.time()\n",
    "num_epochs = 1000\n",
    "train_losses = []\n",
    "val_losses = []\n",
    "\n",
    "# Early stopping parameters\n",
    "patience = 15 # Number of epochs to wait for improvement\n",
    "best_val_loss = float('inf')  # Initialize best validation loss as a large number\n",
    "patience_counter = 0.0 # Counter for epochs with no improvement\n",
    "\n",
    "for epoch in range(num_epochs):\n",
    "    model.train()\n",
    "    running_loss = 0.0\n",
    "    for inputs in train_loader:\n",
    "        labels = inputs[-1].to(device)\n",
    "        \n",
    "        optimizer.zero_grad()\n",
    "        \n",
    "        veg = model_veg(inputs[0].to(device))\n",
    "        elevation = model_elevation(inputs[1].squeeze(1).to(device))\n",
    "        era = model_ERA(inputs[3].to(device))\n",
    "        solus = model_solus(inputs[2].to(device))\n",
    "        \n",
    "        outputs = model(torch.stack((veg, elevation, era, solus), dim=1))      # shape: (B, 3, 120, 120)\n",
    "        loss = criterion(outputs, labels, spatial_mask)\n",
    "        loss.backward()\n",
    "        optimizer.step()\n",
    "\n",
    "        running_loss += loss.item() * inputs[0].size(0)\n",
    "    epoch_loss = running_loss / len(train_dataset)\n",
    "    train_losses.append(epoch_loss)\n",
    "\n",
    "    # Validation phase\n",
    "    model.eval()\n",
    "    val_loss = 0.0\n",
    "    with torch.no_grad():\n",
    "        for inputs in val_loader:\n",
    "            labels = inputs[-1].to(device)\n",
    "            \n",
    "            veg = model_veg(inputs[0].to(device))\n",
    "            elevation = model_elevation(inputs[1].squeeze(1).to(device))\n",
    "            era = model_ERA(inputs[3].to(device))\n",
    "            solus = model_solus(inputs[2].to(device))\n",
    "            \n",
    "            outputs = model(torch.stack((veg, elevation, era, solus), dim=1))\n",
    "            loss = criterion(outputs, labels, spatial_mask)\n",
    "            val_loss += loss.item() * inputs[0].size(0)\n",
    "    epoch_val_loss = val_loss / len(val_dataset)\n",
    "    val_losses.append(epoch_val_loss)\n",
    "\n",
    "    print(f\"Epoch {epoch+1}/{num_epochs}  Train Loss: {epoch_loss:.4f}  Val Loss: {epoch_val_loss:.4f}\")\n",
    "\n",
    "    # Early stopping check\n",
    "    if epoch_val_loss < best_val_loss:\n",
    "        best_val_loss = epoch_val_loss\n",
    "        patience_counter = 0  # Reset counter if we have improvement\n",
    "    else:\n",
    "        patience_counter += 1\n",
    "        if patience_counter >= patience:\n",
    "            print(f\"Early stopping at epoch {epoch+1} due to no improvement in validation loss.\")\n",
    "            break\n",
    "\n",
    "epochs_run = epoch + 1\n",
    "\n",
    "end = time.time()\n",
    "duration = (end-start)/60\n",
    "print(f\"The training loop ran for {round(duration,2)} minutes for {epochs_run} epochs.\")\n"
   ]
  },
  {
   "cell_type": "code",
   "execution_count": 24,
   "id": "49c29ec6",
   "metadata": {},
   "outputs": [
    {
     "data": {
      "image/png": "[encoded data removed]",
      "text/plain": [
       "<Figure size 720x432 with 1 Axes>"
      ]
     },
     "metadata": {
      "needs_background": "light"
     },
     "output_type": "display_data"
    }
   ],
   "source": [
    "import matplotlib.pyplot as plt\n",
    "#with new weighted loss\n",
    "epochs = list(range(1, 31))\n",
    "plt.figure(figsize=(10, 6))\n",
    "plt.plot(epochs, train_losses, label=\"Training Loss\")\n",
    "plt.plot(epochs, val_losses, label=\"Validation Loss\")\n",
    "plt.xlabel(\"Epochs\")\n",
    "plt.ylabel(\"Loss\")\n",
    "plt.title(\"Training vs. Validation Loss\")\n",
    "plt.legend()\n",
    "plt.show()"
   ]
  },
  {
   "cell_type": "code",
   "execution_count": 25,
   "id": "8cc301db",
   "metadata": {},
   "outputs": [],
   "source": [
    "def compute_iou(pred, target, num_classes=3):\n",
    "    \"\"\"\n",
    "    Compute the Intersection over Union (IoU) for each class.\n",
    "    Args:\n",
    "      pred (torch.Tensor): Predicted tensor of shape (N, H, W)\n",
    "      target (torch.Tensor): Ground truth tensor of shape (N, H, W)\n",
    "      num_classes (int): Number of classes.\n",
    "    Returns:\n",
    "      list: IoU for each class.\n",
    "    \"\"\"\n",
    "    ious = []\n",
    "    # Flatten the tensors for easier computation.\n",
    "    pred = pred.view(-1)\n",
    "    target = target.view(-1)\n",
    "    for cls in range(num_classes):\n",
    "        pred_inds = (pred == cls)\n",
    "        target_inds = (target == cls)\n",
    "        intersection = (pred_inds & target_inds).sum().float()\n",
    "        union = pred_inds.sum().float() + target_inds.sum().float() - intersection\n",
    "        if union == 0:\n",
    "            ious.append(float('nan'))  # Alternatively, you might want to append 0.0\n",
    "        else:\n",
    "            ious.append((intersection / union).item())\n",
    "    return ious\n",
    "\n",
    "def compute_dice(pred, target, num_classes=3):\n",
    "    \"\"\"\n",
    "    Compute the Dice coefficient for each class.\n",
    "    Args:\n",
    "      pred (torch.Tensor): Predicted tensor of shape (N, H, W)\n",
    "      target (torch.Tensor): Ground truth tensor of shape (N, H, W)\n",
    "      num_classes (int): Number of classes.\n",
    "    Returns:\n",
    "      list: Dice coefficient for each class.\n",
    "    \"\"\"\n",
    "    dices = []\n",
    "    # Flatten the tensors.\n",
    "    pred = pred.view(-1)\n",
    "    target = target.view(-1)\n",
    "    for cls in range(num_classes):\n",
    "        pred_inds = (pred == cls)\n",
    "        target_inds = (target == cls)\n",
    "        intersection = (pred_inds & target_inds).sum().float()\n",
    "        total = pred_inds.sum().float() + target_inds.sum().float()\n",
    "        if total == 0:\n",
    "            dices.append(float('nan'))\n",
    "        else:\n",
    "            dices.append((2 * intersection / total).item())\n",
    "    return dices\n",
    "\n",
    "def compute_confusion_matrix(pred, target, num_classes=3):\n",
    "    \"\"\"\n",
    "    Compute a confusion matrix where the rows correspond to true classes\n",
    "    and the columns correspond to predicted classes.\n",
    "    Args:\n",
    "      pred (torch.Tensor): Predicted tensor of shape (N, H, W)\n",
    "      target (torch.Tensor): Ground truth tensor of shape (N, H, W)\n",
    "      num_classes (int): Number of classes.\n",
    "    Returns:\n",
    "      torch.Tensor: A (num_classes, num_classes) confusion matrix.\n",
    "    \"\"\"\n",
    "    pred = pred.view(-1)\n",
    "    target = target.view(-1)\n",
    "    # Use torch.bincount to count occurrences of each (true, pred) pair.\n",
    "    cm = torch.bincount(num_classes * target + pred, minlength=num_classes**2)\n",
    "    cm = cm.reshape(num_classes, num_classes)\n",
    "    return cm\n",
    "\n",
    "def compute_precision_recall_f1(conf_matrix):\n",
    "    \"\"\"\n",
    "    Compute per-class precision, recall, and F1 score from a confusion matrix.\n",
    "    Args:\n",
    "      conf_matrix (torch.Tensor): A (num_classes, num_classes) confusion matrix.\n",
    "    Returns:\n",
    "      tuple: Three lists containing precision, recall, and F1 score for each class.\n",
    "    \"\"\"\n",
    "    num_classes = conf_matrix.shape[0]\n",
    "    precisions = []\n",
    "    recalls = []\n",
    "    f1s = []\n",
    "    for i in range(num_classes):\n",
    "        TP = conf_matrix[i, i].item()\n",
    "        FP = conf_matrix[:, i].sum().item() - TP\n",
    "        FN = conf_matrix[i, :].sum().item() - TP\n",
    "        \n",
    "        precision = TP / (TP + FP) if (TP + FP) > 0 else float('nan')\n",
    "        recall    = TP / (TP + FN) if (TP + FN) > 0 else float('nan')\n",
    "        f1        = 2 * precision * recall / (precision + recall) if (precision + recall) > 0 else float('nan')\n",
    "        \n",
    "        precisions.append(precision)\n",
    "        recalls.append(recall)\n",
    "        f1s.append(f1)\n",
    "    return precisions, recalls, f1s"
   ]
  },
  {
   "cell_type": "code",
   "execution_count": 29,
   "id": "8d1a0524",
   "metadata": {},
   "outputs": [
    {
     "name": "stdout",
     "output_type": "stream",
     "text": [
      "Test Loss: 0.8738\n",
      "torch.Size([366, 120, 120])\n",
      "torch.Size([366, 120, 120])\n",
      "IoU per class: [0.435091108083725, 0.017175473272800446, 0.01975046657025814]\n",
      "Dice per class: [0.6063602566719055, 0.03377091512084007, 0.03873588144779205]\n",
      "Confusion Matrix:\n",
      " tensor([[2244518,  433006, 2387351],\n",
      "        [  39761,    9175,   40957],\n",
      "        [  54095,   11293,   50244]])\n",
      "Precision per class: [0.9598627080184778, 0.020232692502767522, 0.020271513367482303]\n",
      "Recall per class: [0.4431536809891656, 0.10206578932731136, 0.43451639684516397]\n",
      "F1 per class: [0.6063602615554332, 0.033770913581428384, 0.03873587995300256]\n"
     ]
    }
   ],
   "source": [
    "# with new weighted loss\n",
    "model.eval()\n",
    "test_loss = 0.0\n",
    "all_preds = []\n",
    "all_labels = []\n",
    "\n",
    "with torch.no_grad():\n",
    "    for inputs in test_loader:\n",
    "        labels = inputs[-1]\n",
    "        \n",
    "        optimizer.zero_grad()\n",
    "        \n",
    "        veg = model_veg(inputs[0])\n",
    "        elevation = model_elevation(inputs[1].squeeze(1))\n",
    "        era = model_ERA(inputs[3])\n",
    "        solus = model_solus(inputs[2])\n",
    "        \n",
    "        outputs = model(torch.stack((veg, elevation, era, solus), dim=1))      # shape: (B, 3, 120, 120)\n",
    "        \n",
    "        loss = criterion(outputs, labels, spatial_mask)\n",
    "        test_loss += loss.item() * inputs[0].size(0)\n",
    "        \n",
    "        # Convert raw logits to predicted class labels (shape: (batch_size, H, W))\n",
    "        preds = torch.argmax(outputs, dim=1)\n",
    "        \n",
    "        # Collect predictions and ground truth labels for metric computations\n",
    "        all_preds.append(preds.cpu())\n",
    "        all_labels.append(labels.cpu())\n",
    "\n",
    "# Calculate average test loss over the dataset\n",
    "test_loss = test_loss / len(test_dataset)\n",
    "print(f\"Test Loss: {test_loss:.4f}\")\n",
    "\n",
    "# Concatenate all the collected predictions and labels along the batch dimension\n",
    "all_preds = torch.cat(all_preds, dim=0)\n",
    "print(all_preds.shape)\n",
    "all_labels = torch.cat(all_labels, dim=0)\n",
    "print(all_labels.shape)\n",
    "\n",
    "\n",
    "# Compute metrics using the functions defined earlier\n",
    "ious = compute_iou(all_preds, all_labels, num_classes=3)\n",
    "dices = compute_dice(all_preds, all_labels, num_classes=3)\n",
    "conf_matrix = compute_confusion_matrix(all_preds, all_labels, num_classes=3)\n",
    "precisions, recalls, f1s = compute_precision_recall_f1(conf_matrix)\n",
    "\n",
    "print(\"IoU per class:\", ious)\n",
    "print(\"Dice per class:\", dices)\n",
    "print(\"Confusion Matrix:\\n\", conf_matrix)\n",
    "print(\"Precision per class:\", precisions)\n",
    "print(\"Recall per class:\", recalls)\n",
    "print(\"F1 per class:\", f1s)\n"
   ]
  },
  {
   "cell_type": "code",
   "execution_count": null,
   "id": "9ef44714",
   "metadata": {},
   "outputs": [],
   "source": []
  }
 ],
 "metadata": {
  "kernelspec": {
   "display_name": "Python 3 (ipykernel)",
   "language": "python",
   "name": "python3"
  },
  "language_info": {
   "codemirror_mode": {
    "name": "ipython",
    "version": 3
   },
   "file_extension": ".py",
   "mimetype": "text/x-python",
   "name": "python",
   "nbconvert_exporter": "python",
   "pygments_lexer": "ipython3",
   "version": "3.8.10"
  }
 },
 "nbformat": 4,
 "nbformat_minor": 5
}
